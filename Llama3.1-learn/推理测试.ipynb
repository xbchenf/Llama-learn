{
 "cells": [
  {
   "cell_type": "code",
   "execution_count": 2,
   "id": "178f9e67-ab38-44a3-8293-b431a98856cf",
   "metadata": {},
   "outputs": [
    {
     "data": {
      "application/vnd.jupyter.widget-view+json": {
       "model_id": "d8798d5ec9c1459aa9830c9c0bcb9d43",
       "version_major": 2,
       "version_minor": 0
      },
      "text/plain": [
       "Loading checkpoint shards:   0%|          | 0/4 [00:00<?, ?it/s]"
      ]
     },
     "metadata": {},
     "output_type": "display_data"
    },
    {
     "name": "stderr",
     "output_type": "stream",
     "text": [
      "Some parameters are on the meta device device because they were offloaded to the cpu.\n",
      "The attention mask and the pad token id were not set. As a consequence, you may observe unexpected behavior. Please pass your input's `attention_mask` to obtain reliable results.\n",
      "Setting `pad_token_id` to `eos_token_id`:128001 for open-end generation.\n",
      "The attention mask is not set and cannot be inferred from input because pad token is same as eos token.As a consequence, you may observe unexpected behavior. Please pass your input's `attention_mask` to obtain reliable results.\n"
     ]
    }
   ],
   "source": [
    "# 导入所需的库\n",
    "from transformers import AutoTokenizer, AutoModelForCausalLM\n",
    "import torch\n",
    "\n",
    "# 加载预训练的分词器和模型\n",
    "model_name_or_path = '/root/autodl-tmp/LLM-Research/Meta-Llama-3___1-8B-Instruct'\n",
    "tokenizer = AutoTokenizer.from_pretrained(model_name_or_path, use_fast=False)\n",
    "model = AutoModelForCausalLM.from_pretrained(model_name_or_path, device_map=\"auto\", torch_dtype=torch.bfloat16)\n",
    "\n",
    "# 定义对话消息列表，包含系统角色和用户角色的消息\n",
    "messages = [\n",
    "            {\"role\": \"system\", \"content\": \"You are a helpful assistant.\"},\n",
    "            {\"role\": \"user\", \"content\": \"Who are you?\"}\n",
    "]\n",
    "\n",
    "# 使用分词器将对话消息转换为模型输入格式\n",
    "input_ids = tokenizer.apply_chat_template(messages, tokenize=False, add_generation_prompt=True)\n",
    "# 将输入转换为PyTorch张量并移动到GPU设备上\n",
    "model_inputs = tokenizer([input_ids], return_tensors=\"pt\").to('cuda')\n",
    "# 使用模型生成回复\n",
    "generated_ids = model.generate(model_inputs.input_ids, max_new_tokens=512)\n",
    "# 从生成的ID中提取回复部分\n",
    "generated_ids = [\n",
    "    output_ids[len(input_ids):] for input_ids, output_ids in zip(model_inputs.input_ids, generated_ids)\n",
    "]\n",
    "# 使用分词器将生成的ID解码为文本\n",
    "response = tokenizer.batch_decode(generated_ids, skip_special_tokens=True)[0]"
   ]
  },
  {
   "cell_type": "code",
   "execution_count": 3,
   "id": "8ec862b7-9a4f-4b2a-a7b4-e8e8f73a0d8c",
   "metadata": {},
   "outputs": [
    {
     "data": {
      "text/plain": [
       "\"I'm an artificial intelligence model designed to assist and communicate with users in a helpful and informative way. I'm a type of chatbot, and my primary function is to provide information, answer questions, and engage in conversation to the best of my abilities.\\n\\nI don't have a personal identity or emotions, but I'm here to help you with any questions or topics you'd like to discuss. I can provide information on a wide range of subjects, from science and history to entertainment and culture. I can also help with tasks such as language translation, text summarization, and even creative writing.\\n\\nHow can I assist you today?\""
      ]
     },
     "execution_count": 3,
     "metadata": {},
     "output_type": "execute_result"
    }
   ],
   "source": [
    "response"
   ]
  },
  {
   "cell_type": "code",
   "execution_count": 4,
   "id": "f6800ca0-69c9-4aba-a8cb-0b88be050b88",
   "metadata": {},
   "outputs": [
    {
     "name": "stderr",
     "output_type": "stream",
     "text": [
      "The attention mask and the pad token id were not set. As a consequence, you may observe unexpected behavior. Please pass your input's `attention_mask` to obtain reliable results.\n",
      "Setting `pad_token_id` to `eos_token_id`:128001 for open-end generation.\n"
     ]
    },
    {
     "data": {
      "text/plain": [
       "'是的，我支持简体中文和繁體中文。'"
      ]
     },
     "execution_count": 4,
     "metadata": {},
     "output_type": "execute_result"
    }
   ],
   "source": [
    "# 定义对话消息列表，包含系统角色和用户角色的消息\n",
    "messages = [\n",
    "            {\"role\": \"user\", \"content\": \"你会讲中文么?\"}\n",
    "]\n",
    "\n",
    "# 使用分词器将对话消息转换为模型输入格式\n",
    "input_ids = tokenizer.apply_chat_template(messages, tokenize=False, add_generation_prompt=True)\n",
    "# 将输入转换为PyTorch张量并移动到GPU设备上\n",
    "model_inputs = tokenizer([input_ids], return_tensors=\"pt\").to('cuda')\n",
    "# 使用模型生成回复\n",
    "generated_ids = model.generate(model_inputs.input_ids, max_new_tokens=512)\n",
    "# 从生成的ID中提取回复部分\n",
    "generated_ids = [\n",
    "    output_ids[len(input_ids):] for input_ids, output_ids in zip(model_inputs.input_ids, generated_ids)\n",
    "]\n",
    "# 使用分词器将生成的ID解码为文本\n",
    "response = tokenizer.batch_decode(generated_ids, skip_special_tokens=True)[0]\n",
    "response"
   ]
  },
  {
   "cell_type": "code",
   "execution_count": 5,
   "id": "9bbb52c6-de80-4cc4-a254-fdc160b5e69a",
   "metadata": {},
   "outputs": [
    {
     "name": "stderr",
     "output_type": "stream",
     "text": [
      "The attention mask and the pad token id were not set. As a consequence, you may observe unexpected behavior. Please pass your input's `attention_mask` to obtain reliable results.\n",
      "Setting `pad_token_id` to `eos_token_id`:128001 for open-end generation.\n"
     ]
    },
    {
     "data": {
      "text/plain": [
       "'夜晚\\n\\n夜晚的月光是那么的柔和，\\n照亮了城市的繁华。\\n星星在天空中闪烁，\\n夜晚的风是那么的轻柔。\\n\\n夜晚的夜色是那么的深邃，\\n给人带来一种宁静的感觉。\\n夜晚的世界是那么的幽暗，\\n给人带来一种孤独的感觉。\\n\\n夜晚的月光照亮了夜空，\\n照亮了夜晚的世界。\\n夜晚的风吹过夜空，\\n带来一种清新的味道。\\n\\n夜晚的夜色是那么的深邃，\\n给人带来一种宁静的感觉。\\n夜晚的世界是那么的幽暗，\\n给人带来一种孤独的感觉。\\n\\n夜晚的月光照亮了夜空，\\n照亮了夜晚的世界。\\n夜晚的风吹过夜空，\\n带来一种清新的味道。'"
      ]
     },
     "execution_count": 5,
     "metadata": {},
     "output_type": "execute_result"
    }
   ],
   "source": [
    "# 定义对话消息列表，包含系统角色和用户角色的消息\n",
    "messages = [\n",
    "            {\"role\": \"user\", \"content\": \"请以“夜晚”为题写一首诗\"}\n",
    "]\n",
    "\n",
    "# 使用分词器将对话消息转换为模型输入格式\n",
    "input_ids = tokenizer.apply_chat_template(messages, tokenize=False, add_generation_prompt=True)\n",
    "# 将输入转换为PyTorch张量并移动到GPU设备上\n",
    "model_inputs = tokenizer([input_ids], return_tensors=\"pt\").to('cuda')\n",
    "# 使用模型生成回复\n",
    "generated_ids = model.generate(model_inputs.input_ids, max_new_tokens=512)\n",
    "# 从生成的ID中提取回复部分\n",
    "generated_ids = [\n",
    "    output_ids[len(input_ids):] for input_ids, output_ids in zip(model_inputs.input_ids, generated_ids)\n",
    "]\n",
    "# 使用分词器将生成的ID解码为文本\n",
    "response = tokenizer.batch_decode(generated_ids, skip_special_tokens=True)[0]\n",
    "response"
   ]
  },
  {
   "cell_type": "code",
   "execution_count": null,
   "id": "1c56ac81-bff4-4829-ab66-6b548fd5386b",
   "metadata": {},
   "outputs": [],
   "source": []
  }
 ],
 "metadata": {
  "kernelspec": {
   "display_name": "Python 3 (ipykernel)",
   "language": "python",
   "name": "python3"
  },
  "language_info": {
   "codemirror_mode": {
    "name": "ipython",
    "version": 3
   },
   "file_extension": ".py",
   "mimetype": "text/x-python",
   "name": "python",
   "nbconvert_exporter": "python",
   "pygments_lexer": "ipython3",
   "version": "3.10.8"
  }
 },
 "nbformat": 4,
 "nbformat_minor": 5
}
